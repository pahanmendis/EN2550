{
 "metadata": {
  "language_info": {
   "codemirror_mode": {
    "name": "ipython",
    "version": 3
   },
   "file_extension": ".py",
   "mimetype": "text/x-python",
   "name": "python",
   "nbconvert_exporter": "python",
   "pygments_lexer": "ipython3",
   "version": "3.8.5"
  },
  "orig_nbformat": 2,
  "kernelspec": {
   "name": "python3",
   "display_name": "Python 3",
   "language": "python"
  }
 },
 "nbformat": 4,
 "nbformat_minor": 2,
 "cells": [
  {
   "cell_type": "code",
   "execution_count": 1,
   "metadata": {},
   "outputs": [],
   "source": [
    "import tensorflow as tf\n",
    "from tensorflow import keras\n",
    "import numpy as np\n",
    "import matplotlib.pyplot as plt"
   ]
  },
  {
   "cell_type": "code",
   "execution_count": 7,
   "metadata": {},
   "outputs": [
    {
     "output_type": "stream",
     "name": "stdout",
     "text": [
      "x_train:  (50000, 3072)\n",
      "w1: (3072, 10)\n",
      "y_train: (50000, 10)\n",
      "b1: (10,)\n"
     ]
    }
   ],
   "source": [
    "(x_train, y_train), (x_test, y_test) = keras.datasets.cifar10.load_data()\n",
    "\n",
    "\n",
    "K = len(np.unique(y_train)) # Classes\n",
    "N_tr = x_train.shape[0]\n",
    "N_te = x_test.shape[0]\n",
    "Din = 3072 # CIFAR10\n",
    "# Din = 784 # MINIST\n",
    "\n",
    "# Normalize pixel values\n",
    "x_train, x_test = x_train / 255.0, x_test / 255.0\n",
    "mean_image = np.mean(x_train, axis=0)\n",
    "x_train = x_train - mean_image\n",
    "x_test = x_test - mean_image\n",
    "\n",
    "y_train = tf.keras.utils.to_categorical(y_train, num_classes=K)\n",
    "y_test = tf.keras.utils.to_categorical(y_test, num_classes=K)\n",
    "\n",
    "x_train = np.reshape(x_train,(N_tr,Din))\n",
    "print(\"x_train: \", x_train.shape)\n",
    "x_test = np.reshape(x_test,(N_te,Din))\n",
    "x_train = x_train.astype(\"float32\")\n",
    "x_test = x_test.astype(\"float32\")\n",
    "\n",
    "std=1e-5\n",
    "w1 = std*np.random.randn(Din, K)\n",
    "b1 = np.zeros(K)\n",
    "print(\"w1:\", w1.shape)\n",
    "print(\"y_train:\", y_train.shape)\n",
    "print(\"b1:\", b1.shape)\n",
    "batch_size = N_tr\n",
    "\n"
   ]
  },
  {
   "cell_type": "code",
   "execution_count": 8,
   "metadata": {},
   "outputs": [],
   "source": [
    "def sigmoid(x):\n",
    "    z = 1/(1 + np.exp(-x))\n",
    "    return z"
   ]
  },
  {
   "cell_type": "code",
   "execution_count": 15,
   "metadata": {},
   "outputs": [
    {
     "output_type": "stream",
     "name": "stdout",
     "text": [
      "epoch 1\n",
      "loss 6.733095824145981\n",
      "accuracy :  38.440000000000005\n",
      "\n",
      "\n",
      "epoch 2\n",
      "loss 6.732483355855047\n",
      "accuracy :  38.516\n",
      "\n",
      "\n",
      "epoch 3\n",
      "loss 6.731888750812599\n",
      "accuracy :  38.558\n",
      "\n",
      "\n",
      "epoch 4\n",
      "loss 6.731311125023135\n",
      "accuracy :  38.624\n",
      "\n",
      "\n",
      "epoch 5\n",
      "loss 6.730749653855939\n",
      "accuracy :  38.7\n",
      "\n",
      "\n",
      "epoch 6\n",
      "loss 6.730203567120799\n",
      "accuracy :  38.748\n",
      "\n",
      "\n",
      "epoch 7\n",
      "loss 6.729672144666823\n",
      "accuracy :  38.769999999999996\n",
      "\n",
      "\n",
      "epoch 8\n",
      "loss 6.729154712432967\n",
      "accuracy :  38.792\n",
      "\n",
      "\n",
      "epoch 9\n",
      "loss 6.728650638890289\n",
      "accuracy :  38.856\n",
      "\n",
      "\n",
      "epoch 10\n",
      "loss 6.7281593318258945\n",
      "accuracy :  38.894\n",
      "\n",
      "\n"
     ]
    }
   ],
   "source": [
    "epochs = 10\n",
    "lr = 0.1\n",
    "lr_decay=0.0001\n",
    "reg = []\n",
    "loss_history = []\n",
    "train_acc_history = []\n",
    "val_acc_history = []\n",
    "seed = 0\n",
    "rng = np.random.default_rng(seed=seed)\n",
    "for t in range(epochs):\n",
    "    indices = np.arange(N_tr)\n",
    "    rng.shuffle(indices)\n",
    "    # Forward pass\n",
    "    h = np.matmul(x_train,w1)+np.transpose(b1)\n",
    "    y_pred  = sigmoid(h)\n",
    "    #print(y_pred[0])\n",
    "    loss = (1/N_tr)*(np.sum(np.multiply(-y_train,np.log(y_pred)) - np.multiply(1-y_train,np.log(1-y_pred))))\n",
    "\n",
    "    loss_history.append(loss)\n",
    "    reg.append(t)\n",
    "\n",
    "    #print(y_pred[0])\n",
    "    print('epoch',t+1)\n",
    "    print('loss',loss)\n",
    "\n",
    "    # Backw propogation\n",
    "    lr = lr * (1 / (1 + lr_decay * t))\n",
    "    w1 = w1 - lr*(1/N_tr)*np.matmul(np.transpose(x_train),(y_pred-y_train))\n",
    "\n",
    "    y_out = np.zeros_like(y_train)\n",
    "    y_out[np.arange(len(y_train)), y_pred.argmax(1)] = 1\n",
    "    \n",
    "    comp = np.all(y_out==y_train,axis = 1)\n",
    "    \n",
    "    accuracy = np.sum(comp)/N_tr\n",
    "    train_acc_history.append(accuracy)\n",
    "    print('accuracy : ',accuracy*100)\n",
    "    print('\\n')\n",
    "    \n"
   ]
  },
  {
   "source": [
    "Printing accuracies and displaying w as images"
   ],
   "cell_type": "markdown",
   "metadata": {}
  },
  {
   "cell_type": "code",
   "execution_count": null,
   "metadata": {},
   "outputs": [],
   "source": []
  }
 ]
}