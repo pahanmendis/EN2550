{
 "metadata": {
  "language_info": {
   "codemirror_mode": {
    "name": "ipython",
    "version": 3
   },
   "file_extension": ".py",
   "mimetype": "text/x-python",
   "name": "python",
   "nbconvert_exporter": "python",
   "pygments_lexer": "ipython3",
   "version": "3.8.5"
  },
  "orig_nbformat": 2,
  "kernelspec": {
   "name": "python3",
   "display_name": "Python 3",
   "language": "python"
  }
 },
 "nbformat": 4,
 "nbformat_minor": 2,
 "cells": [
  {
   "cell_type": "code",
   "execution_count": 1,
   "metadata": {},
   "outputs": [],
   "source": [
    "import tensorflow as tf\n",
    "from tensorflow import keras\n",
    "import numpy as np\n",
    "import matplotlib.pyplot as plt"
   ]
  },
  {
   "cell_type": "code",
   "execution_count": 7,
   "metadata": {},
   "outputs": [
    {
     "output_type": "stream",
     "name": "stdout",
     "text": [
      "x_train:  (50000, 3072)\n",
      "w1: (3072, 10)\n",
      "y_train: (50000, 10)\n",
      "b1: (10,)\n"
     ]
    }
   ],
   "source": [
    "(x_train, y_train), (x_test, y_test) = keras.datasets.cifar10.load_data()\n",
    "\n",
    "\n",
    "K = len(np.unique(y_train)) # Classes\n",
    "N_tr = x_train.shape[0]\n",
    "N_te = x_test.shape[0]\n",
    "Din = 3072 # CIFAR10\n",
    "# Din = 784 # MINIST\n",
    "\n",
    "# Normalize pixel values\n",
    "x_train, x_test = x_train / 255.0, x_test / 255.0\n",
    "mean_image = np.mean(x_train, axis=0)\n",
    "x_train = x_train - mean_image\n",
    "x_test = x_test - mean_image\n",
    "\n",
    "y_train = tf.keras.utils.to_categorical(y_train, num_classes=K)\n",
    "y_test = tf.keras.utils.to_categorical(y_test, num_classes=K)\n",
    "\n",
    "x_train = np.reshape(x_train,(N_tr,Din))\n",
    "print(\"x_train: \", x_train.shape)\n",
    "x_test = np.reshape(x_test,(N_te,Din))\n",
    "x_train = x_train.astype(\"float32\")\n",
    "x_test = x_test.astype(\"float32\")\n",
    "\n",
    "std=1e-5\n",
    "w1 = std*np.random.randn(Din, K)\n",
    "b1 = np.zeros(K)\n",
    "print(\"w1:\", w1.shape)\n",
    "print(\"y_train:\", y_train.shape)\n",
    "print(\"b1:\", b1.shape)\n",
    "batch_size = N_tr\n",
    "\n"
   ]
  },
  {
   "cell_type": "code",
   "execution_count": 8,
   "metadata": {},
   "outputs": [],
   "source": [
    "def sigmoid(x):\n",
    "    z = 1/(1 + np.exp(-x))\n",
    "    return z"
   ]
  },
  {
   "cell_type": "code",
   "execution_count": 9,
   "metadata": {},
   "outputs": [
    {
     "output_type": "stream",
     "name": "stdout",
     "text": [
      "epoch 0 loss 1.2500041240228974\n",
      "accuracy :  8.616\n",
      "epoch 1 loss 1.231823195629894\n",
      "accuracy :  24.394\n",
      "epoch 2 loss 1.2250723856311507\n",
      "accuracy :  29.080000000000002\n",
      "epoch 3 loss 1.221283673350209\n",
      "accuracy :  30.18\n",
      "epoch 4 loss 1.2186326243317238\n",
      "accuracy :  31.34\n",
      "epoch 5 loss 1.216604931532133\n",
      "accuracy :  32.124\n",
      "epoch 6 loss 1.214976559872618\n",
      "accuracy :  32.858\n",
      "epoch 7 loss 1.213628654852469\n",
      "accuracy :  33.467999999999996\n",
      "epoch 8 loss 1.2124870938071124\n",
      "accuracy :  34.018\n",
      "epoch 9 loss 1.2115028349584482\n",
      "accuracy :  34.472\n"
     ]
    }
   ],
   "source": [
    "epochs = 10\n",
    "lr = 0.1\n",
    "lr_decay=0.0001\n",
    "reg = []\n",
    "loss_history = []\n",
    "train_acc_history = []\n",
    "val_acc_history = []\n",
    "seed = 0\n",
    "rng = np.random.default_rng(seed=seed)\n",
    "for t in range(epochs):\n",
    "    indices = np.arange(N_tr)\n",
    "    rng.shuffle(indices)\n",
    "    # Forward pass\n",
    "    h = np.matmul(x_train,w1)+np.transpose(b1)\n",
    "    y_pred  = sigmoid(h)\n",
    "    #print(y_pred[0])\n",
    "    loss = (1/(2*N_tr))*(np.sum(np.square(y_pred - y_train)))\n",
    "\n",
    "    loss_history.append(loss)\n",
    "    reg.append(t)\n",
    "\n",
    "    #print(y_pred[0])\n",
    "    print('epoch',t,'loss',loss)\n",
    "\n",
    "    # Backw propogation\n",
    "    lr = lr * (1 / (1 + lr_decay * t))\n",
    "    w1 = w1 - lr*(1/N_tr)*np.matmul(np.transpose(x_train),(y_pred-y_train))\n",
    "\n",
    "    y_out = np.zeros_like(y_train)\n",
    "    y_out[np.arange(len(y_train)), y_pred.argmax(1)] = 1\n",
    "    \n",
    "    comp = np.all(y_out==y_train,axis = 1)\n",
    "    \n",
    "    accuracy = np.sum(comp)/N_tr\n",
    "    train_acc_history.append(accuracy)\n",
    "    print('accuracy : ',accuracy*100)\n",
    "    \n",
    "# Printing accuracies and displaying w as images"
   ]
  },
  {
   "cell_type": "code",
   "execution_count": null,
   "metadata": {},
   "outputs": [],
   "source": []
  }
 ]
}